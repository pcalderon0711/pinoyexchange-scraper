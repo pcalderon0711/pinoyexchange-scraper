{
 "cells": [
  {
   "cell_type": "code",
   "execution_count": 1,
   "metadata": {
    "collapsed": true
   },
   "outputs": [],
   "source": [
    "import requests\n",
    "import pandas as pd\n",
    "from bs4 import BeautifulSoup"
   ]
  },
  {
   "cell_type": "markdown",
   "metadata": {},
   "source": [
    "# get category and subcategory list"
   ]
  },
  {
   "cell_type": "code",
   "execution_count": 39,
   "metadata": {
    "collapsed": true
   },
   "outputs": [],
   "source": [
    "base = requests.get('https://www.pinoyexchange.com/categories').text"
   ]
  },
  {
   "cell_type": "code",
   "execution_count": 40,
   "metadata": {
    "collapsed": true
   },
   "outputs": [],
   "source": [
    "bs = BeautifulSoup(base, 'lxml')"
   ]
  },
  {
   "cell_type": "code",
   "execution_count": 41,
   "metadata": {
    "collapsed": true
   },
   "outputs": [],
   "source": [
    "categories = []\n",
    "for cat in bs.select('td.CategoryName')[1:]:\n",
    "    category = cat.select('a')[-1].text\n",
    "    href = cat.select('a')[-1]['href']\n",
    "    category_url = requests.get(href).text\n",
    "    category_bs = BeautifulSoup(category_url, 'lxml')\n",
    "    for cat2 in category_bs.select('td.CategoryName')[1:]:\n",
    "        category2 = cat2.select('a')[-1].text\n",
    "        href2 = cat2.select('a')[-1]['href']\n",
    "        categories.append({'category': category, 'subcategory': category2, 'href': href2})"
   ]
  },
  {
   "cell_type": "code",
   "execution_count": 47,
   "metadata": {
    "collapsed": true
   },
   "outputs": [],
   "source": [
    "cat_df = pd.DataFrame(categories)"
   ]
  },
  {
   "cell_type": "code",
   "execution_count": 45,
   "metadata": {
    "collapsed": true
   },
   "outputs": [],
   "source": [
    "cat_df.reset_index().to_csv('data/category_urls.csv', index=False)"
   ]
  },
  {
   "cell_type": "markdown",
   "metadata": {},
   "source": [
    "# get posts given subcategory"
   ]
  },
  {
   "cell_type": "code",
   "execution_count": 91,
   "metadata": {
    "collapsed": true
   },
   "outputs": [],
   "source": [
    "def get_post_df(url, index):\n",
    "    counter = 1\n",
    "    running = pd.DataFrame()\n",
    "    while True:\n",
    "        print(counter)\n",
    "        curr_url_text = url + '/p{}'.format(str(counter))\n",
    "        sel = requests.get(curr_url_text).text\n",
    "        bs_sel = BeautifulSoup(sel, 'lxml')\n",
    "        to_append = pd.DataFrame(list(\n",
    "            zip(\n",
    "                [x['href'] for x in bs_sel.select('div.ItemContent.Discussion a')[::2]], # href\n",
    "                [x.text for x in bs_sel.select('div.ItemContent.Discussion a')[::2]], # post\n",
    "                [x.text for x in bs_sel.select('div.ItemContent.Discussion span.ViewCount span.Number')], # views\n",
    "                [x.text for x in bs_sel.select('div.ItemContent.Discussion span.CommentCount span.Number')], # comments\n",
    "                [x.text for x in bs_sel.select('div.ItemContent.Discussion span.DiscussionScore span.Number')], #discussion_score\n",
    "                [x['datetime'] for x in bs_sel.select('div.ItemContent.Discussion time')] # date_last_post\n",
    "            )\n",
    "        ), columns = ['href', 'post', 'views', 'comments', 'discussion_score', 'date_last_post'])\n",
    "        if to_append.shape[0] == 0:\n",
    "            break\n",
    "        running = pd.concat([running, to_append], axis= 0)\n",
    "        counter += 1\n",
    "    running['subcategory'] = index # identifier for subcategory\n",
    "    running = running.reset_index() # index is identifier for post\n",
    "    running.to_csv('data/subcategory_{}.csv'.format(index), index=False)"
   ]
  },
  {
   "cell_type": "code",
   "execution_count": null,
   "metadata": {
    "collapsed": true
   },
   "outputs": [],
   "source": []
  },
  {
   "cell_type": "markdown",
   "metadata": {},
   "source": [
    "# get comments given post"
   ]
  },
  {
   "cell_type": "code",
   "execution_count": 47,
   "metadata": {
    "collapsed": true
   },
   "outputs": [],
   "source": [
    "post_df = pd.read_csv('data/subcategory_0.csv')"
   ]
  },
  {
   "cell_type": "code",
   "execution_count": 85,
   "metadata": {
    "collapsed": true
   },
   "outputs": [],
   "source": [
    "def get_comment_df(url, subcategory, index):\n",
    "    counter = 1\n",
    "    running = pd.DataFrame()\n",
    "    while True:\n",
    "        print(counter)\n",
    "        curr_url_text = url + '/p{}'.format(str(counter))\n",
    "        sel = requests.get(curr_url_text).text\n",
    "        bs_sel = BeautifulSoup(sel, 'lxml')\n",
    "        if counter == 1:\n",
    "            to_append = pd.DataFrame(list(\n",
    "                zip(\n",
    "                [bs_sel.select('div.Meta.DiscussionMeta span.MItem.DateCreated time')[0]['datetime']] + [x['datetime'] for x in bs_sel.select('div.Item-Header.CommentHeader time')],\n",
    "                [x.text for x in bs_sel.select('div.Message.userContent')]\n",
    "                )\n",
    "            ))\n",
    "        else:\n",
    "            to_append = pd.DataFrame(list(\n",
    "                zip(\n",
    "                [x['datetime'] for x in bs_sel.select('div.Item-Header.CommentHeader time')],\n",
    "                [x.text for x in bs_sel.select('div.Message.userContent')]\n",
    "                )\n",
    "            ))\n",
    "        if to_append.shape[0] == 0:\n",
    "            break\n",
    "        running = pd.concat([running, to_append], axis= 0)\n",
    "        counter += 1\n",
    "    running.columns = ['date', 'comment']\n",
    "    running['subcategory'] = subcategory\n",
    "    running['post_index'] = index\n",
    "    running.to_csv('data/comments_{}_{}.csv'.format(subcategory, index), index=False)"
   ]
  },
  {
   "cell_type": "code",
   "execution_count": null,
   "metadata": {
    "collapsed": true
   },
   "outputs": [],
   "source": []
  },
  {
   "cell_type": "markdown",
   "metadata": {},
   "source": [
    "# run the scraper"
   ]
  },
  {
   "cell_type": "code",
   "execution_count": 92,
   "metadata": {
    "collapsed": true
   },
   "outputs": [],
   "source": [
    "cat_df = pd.read_csv('data/category_urls.csv')"
   ]
  },
  {
   "cell_type": "code",
   "execution_count": null,
   "metadata": {
    "collapsed": true
   },
   "outputs": [],
   "source": [
    "# saves posts per subcategory in a csv file\n",
    "subcategories_to_go_over = cat_df[['href', 'index', 'category', 'subcategory']].values\n",
    "for x in subcategories_to_go_over:\n",
    "    print('Category: {}, Subcategory: {}'.format(x[2], x[3]))\n",
    "    get_post_df(x[0], x[1])"
   ]
  },
  {
   "cell_type": "code",
   "execution_count": null,
   "metadata": {
    "collapsed": true
   },
   "outputs": [],
   "source": [
    "# saves comments per (subcategory and post id) in a csv file\n",
    "for x in range(92):\n",
    "    subcat_df = pd.read_csv('data/subcategory_{}.csv'.format(index))\n",
    "    posts_to_go_over = subcat_df[['href', 'subcategory', 'index', 'post']]\n",
    "    for y in posts_to_go_over:\n",
    "        print('Subcategory ID: {}, Post: {}'.format(y[1], y[3]))\n",
    "        get_comment_df(y[0], y[1], y[2])"
   ]
  }
 ],
 "metadata": {
  "kernelspec": {
   "display_name": "Python 3",
   "language": "python",
   "name": "python3"
  },
  "language_info": {
   "codemirror_mode": {
    "name": "ipython",
    "version": 3
   },
   "file_extension": ".py",
   "mimetype": "text/x-python",
   "name": "python",
   "nbconvert_exporter": "python",
   "pygments_lexer": "ipython3",
   "version": "3.6.1"
  }
 },
 "nbformat": 4,
 "nbformat_minor": 2
}
